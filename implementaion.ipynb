{
 "cells": [
  {
   "cell_type": "code",
   "execution_count": 1,
   "metadata": {},
   "outputs": [],
   "source": [
    "import numpy as np\n",
    "import matplotlib.pyplot as plt"
   ]
  },
  {
   "cell_type": "code",
   "execution_count": null,
   "metadata": {},
   "outputs": [],
   "source": [
    "p_e=50\n",
    "p_i=50\n",
    "\n",
    "H=5\n",
    "lam=np.log(2)/H\n",
    "sigma=0.1\n",
    "tick_size=0.1\n",
    "alpha=0.001 #step size parameter\n",
    "gamma=0.999 #discount rate\n",
    "kappa=0.0001 #risk aversion parameter\n",
    "\n",
    "#boundries for the price\n",
    "p_max=100\n",
    "p_min=0.1\n",
    "\n",
    "p_list=[]\n",
    "n=100000\n",
    "\n",
    "for i in range(n):\n",
    "    #add standard descretisation of Ornstein-Uhlenbeck process\n",
    "    x_t=np.log(p_i/p_e)\n",
    "    d_x_t=-lam*x_t+sigma*np.random.normal(0,1)\n",
    "\n",
    "    x_t=x_t+d_x_t\n",
    "    p_i=p_e*np.exp(x_t)\n",
    "    p_i=round(p_i,1)\n",
    "\n",
    "    #APPLYING BOUNDRIES\n",
    "    p_i=max(p_min,min(p_i,p_max))\n",
    "    p_list.append(p_i)"
   ]
  },
  {
   "cell_type": "code",
   "execution_count": 3,
   "metadata": {},
   "outputs": [],
   "source": [
    "# #plot the price using plotly\n",
    "# import plotly.graph_objects as go\n",
    "# import plotly.express as px\n",
    "\n",
    "# fig = go.Figure()\n",
    "# fig.add_trace(go.Scatter(y=p_list, mode='lines', name='Price'))\n",
    "# fig.update_layout(title='Ornstein-Uhlenbeck process', xaxis_title='Time', yaxis_title='Price')\n",
    "# fig.show()"
   ]
  },
  {
   "cell_type": "code",
   "execution_count": 7,
   "metadata": {},
   "outputs": [
    {
     "name": "stdout",
     "output_type": "stream",
     "text": [
      "[-500, -400, -300, -200, -100, 0, 100, 200, 300, 400, 500]\n",
      "[-1000, -900, -800, -700, -600, -500, -400, -300, -200, -100, 0, 100, 200, 300, 400, 500, 600, 700, 800, 900, 1000]\n"
     ]
    }
   ],
   "source": [
    "lot_size=100\n",
    "max_trade_size=5\n",
    "max_position_size=10\n",
    "\n",
    "action_space=[lot_size*i for i in range(-max_trade_size,max_trade_size+1)]\n",
    "print(action_space)\n",
    "holding_space=[lot_size*i for i in range(-max_position_size,max_position_size+1)]\n",
    "print(holding_space)"
   ]
  },
  {
   "cell_type": "code",
   "execution_count": null,
   "metadata": {},
   "outputs": [],
   "source": [
    "#state of the environment is the current price and the current position\n",
    "s_t=(p_list[0],0)"
   ]
  }
 ],
 "metadata": {
  "kernelspec": {
   "display_name": "Python 3",
   "language": "python",
   "name": "python3"
  },
  "language_info": {
   "codemirror_mode": {
    "name": "ipython",
    "version": 3
   },
   "file_extension": ".py",
   "mimetype": "text/x-python",
   "name": "python",
   "nbconvert_exporter": "python",
   "pygments_lexer": "ipython3",
   "version": "3.12.6"
  }
 },
 "nbformat": 4,
 "nbformat_minor": 2
}
